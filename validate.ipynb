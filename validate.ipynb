# Install the lxml library for XML processing
!pip -q install lxml
from lxml import etree

# Note: Before running, upload domain.dtd, sample.xml, and broken.xml
# to your Colab session's file storage.

# Load the DTD rules
try:
    with open("domain.dtd", "rb") as f:
        dtd = etree.DTD(f)

    # Parse the two XML files
    ok = etree.parse("sample.xml")
    bad = etree.parse("broken.xml")

    # Validate and print the results
    print("sample.xml →", "VALID ✅" if dtd.validate(ok) else "NOT valid ❌")
    print("broken.xml →", "VALID ✅" if dtd.validate(bad) else "NOT valid ❌")

    print("\nErrors (broken.xml):")
    for e in dtd.error_log.filter_from_errors():
        print("•", e)

except IOError as e:
    print(f"Error: Make sure your DTD and XML files are uploaded to Colab. Details: {e}")
